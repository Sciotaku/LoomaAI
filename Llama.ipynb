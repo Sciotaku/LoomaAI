{
 "cells": [
  {
   "cell_type": "code",
   "execution_count": 1,
   "metadata": {},
   "outputs": [
    {
     "name": "stdout",
     "output_type": "stream",
     "text": [
      "A classic!\n",
      "\n",
      "The novel \"The Godfather\" was written by Mario Puzo, an American author of Italian descent. The book was published in 1969 and has since become a bestseller.\n",
      "\n",
      "Mario Puzo was born in New York City to Italian immigrant parents. He grew up in a neighborhood with a strong Italian-American culture, which would later influence his writing. Before becoming a full-time writer, Puzo worked as a journalist, a screenwriter, and a professor of creative writing.\n",
      "\n",
      "\"The Godfather\" is Puzo's most famous work, and it tells the story of the Corleone family, an organized crime dynasty in New York City. The novel explores themes of loyalty, betrayal, power, and the American Dream, all set against the backdrop of the Italian-American Mafia.\n",
      "\n",
      "The book was a huge success, and its popularity helped to cement Puzo's reputation as a masterful storyteller. He went on to write several more novels featuring the Corleone family, including \"The Last Don\" and \"The Sicilian\".\n",
      "\n",
      "In 1972, Francis Ford Coppola adapted \"The Godfather\" into a film of the same name, which became one of the most successful movies in history. The film won several Academy Awards and has since become a cultural phenomenon.\n",
      "\n",
      "Mario Puzo passed away in 1999, but his legacy lives on through his iconic novel and its enduring influence on popular culture.\n"
     ]
    }
   ],
   "source": [
    "import requests\n",
    "import json\n",
    "\n",
    "url = \"http://localhost:11434/api/chat\"\n",
    "\n",
    "def llama3(prompt):\n",
    "    data = {\n",
    "        \"model\": \"llama3\",\n",
    "        \"messages\": [\n",
    "            {\n",
    "                \"role\": \"user\",\n",
    "                \"content\": prompt\n",
    "            }\n",
    "        ],\n",
    "        \"stream\": False\n",
    "    }\n",
    "    \n",
    "    headers = {\n",
    "        'Content-Type': 'application/json'\n",
    "    }\n",
    "    \n",
    "    response = requests.post(url, headers=headers, json=data)\n",
    "    return response.json()['message']['content']\n",
    "\n",
    "response = llama3(\"who wrote the book godfather\")\n",
    "print(response)"
   ]
  },
  {
   "cell_type": "code",
   "execution_count": 2,
   "metadata": {},
   "outputs": [
    {
     "name": "stdout",
     "output_type": "stream",
     "text": [
      "{'ISBN:0451526538': {'url': 'https://openlibrary.org/books/OL1017798M/The_adventures_of_Tom_Sawyer', 'key': '/books/OL1017798M', 'title': 'The adventures of Tom Sawyer', 'authors': [{'url': 'https://openlibrary.org/authors/OL18319A/Mark_Twain', 'name': 'Mark Twain'}], 'number_of_pages': 216, 'pagination': 'xxi, 216 p. ;', 'by_statement': 'Mark Twain ; with an introduction by Robert S. Tilton.', 'identifiers': {'librarything': ['2236'], 'project_gutenberg': ['74'], 'goodreads': ['1929684'], 'isbn_10': ['0451526538'], 'lccn': ['96072233'], 'oclc': ['36792831'], 'openlibrary': ['OL1017798M']}, 'classifications': {'lc_classifications': ['PS1306 .A1 1997', 'PS1306.A1 1997'], 'dewey_decimal_class': ['813/.4']}, 'publishers': [{'name': 'Signet Classic'}], 'publish_places': [{'name': 'New York'}], 'publish_date': '1997', 'subjects': [{'name': 'The Adventures of Tom Sawyer', 'url': 'https://openlibrary.org/subjects/the_adventures_of_tom_sawyer'}, {'name': 'Mark Twain', 'url': 'https://openlibrary.org/subjects/mark_twain'}, {'name': '1835-1910', 'url': 'https://openlibrary.org/subjects/1835-1910'}, {'name': '19th Century', 'url': 'https://openlibrary.org/subjects/19th_century'}, {'name': 'Historical', 'url': 'https://openlibrary.org/subjects/historical'}, {'name': 'Fiction', 'url': 'https://openlibrary.org/subjects/fiction'}, {'name': 'Classic', 'url': 'https://openlibrary.org/subjects/classic'}, {'name': 'American', 'url': 'https://openlibrary.org/subjects/american'}, {'name': 'Novel', 'url': 'https://openlibrary.org/subjects/novel'}, {'name': 'Children', 'url': 'https://openlibrary.org/subjects/children'}, {'name': \"Children's\", 'url': \"https://openlibrary.org/subjects/children's\"}, {'name': \"Kid's\", 'url': \"https://openlibrary.org/subjects/kid's\"}, {'name': 'Juvenile', 'url': 'https://openlibrary.org/subjects/juvenile'}, {'name': 'Young Adult', 'url': 'https://openlibrary.org/subjects/young_adult'}, {'name': 'ADULT', 'url': 'https://openlibrary.org/subjects/adult'}, {'name': '1967 Lewis Carroll Shelf Award', 'url': 'https://openlibrary.org/subjects/1967_lewis_carroll_shelf_award'}, {'name': 'Literature', 'url': 'https://openlibrary.org/subjects/literature'}, {'name': 'Hardcover', 'url': 'https://openlibrary.org/subjects/hardcover'}, {'name': 'Paperback', 'url': 'https://openlibrary.org/subjects/paperback'}, {'name': 'Kindle', 'url': 'https://openlibrary.org/subjects/kindle'}, {'name': 'E-book', 'url': 'https://openlibrary.org/subjects/e-book'}, {'name': 'Free online', 'url': 'https://openlibrary.org/subjects/free_online'}, {'name': 'Dummies (Bookselling)', 'url': 'https://openlibrary.org/subjects/dummies_(bookselling)'}, {'name': 'Manuscripts', 'url': 'https://openlibrary.org/subjects/manuscripts'}, {'name': 'American Manuscripts', 'url': 'https://openlibrary.org/subjects/american_manuscripts'}, {'name': 'Movies', 'url': 'https://openlibrary.org/subjects/movies'}, {'name': 'Theatre', 'url': 'https://openlibrary.org/subjects/theatre'}, {'name': 'Theater', 'url': 'https://openlibrary.org/subjects/theater'}, {'name': 'Adventure stories', 'url': 'https://openlibrary.org/subjects/adventure_stories'}, {'name': 'Novels, other prose & writers: 19th century', 'url': 'https://openlibrary.org/subjects/novels,_other_prose_&_writers:_19th_century'}, {'name': 'Male friendship', 'url': 'https://openlibrary.org/subjects/male_friendship'}, {'name': 'Adventure', 'url': 'https://openlibrary.org/subjects/adventure'}, {'name': 'Adventures', 'url': 'https://openlibrary.org/subjects/adventures'}, {'name': 'Adventurerers', 'url': 'https://openlibrary.org/subjects/adventurerers'}, {'name': 'Stories', 'url': 'https://openlibrary.org/subjects/stories'}, {'name': 'Books', 'url': 'https://openlibrary.org/subjects/books'}, {'name': 'Readers', 'url': 'https://openlibrary.org/subjects/readers'}, {'name': 'Runaway children', 'url': 'https://openlibrary.org/subjects/runaway_children'}, {'name': 'Child witnesses', 'url': 'https://openlibrary.org/subjects/child_witnesses'}, {'name': 'Fugitive slaves', 'url': 'https://openlibrary.org/subjects/fugitive_slaves'}, {'name': 'Race relations', 'url': 'https://openlibrary.org/subjects/race_relations'}, {'name': 'Boys', 'url': 'https://openlibrary.org/subjects/boys'}, {'name': 'Readers for new literates', 'url': 'https://openlibrary.org/subjects/readers_for_new_literates'}, {'name': 'High interest-low vocabulary books', 'url': 'https://openlibrary.org/subjects/high_interest-low_vocabulary_books'}, {'name': 'open_syllabus_project', 'url': 'https://openlibrary.org/subjects/open_syllabus_project'}, {'name': 'Sawyer, Tom (Personaje literario)', 'url': 'https://openlibrary.org/subjects/sawyer,_tom_(personaje_literario)'}, {'name': 'Relatos de aventura', 'url': 'https://openlibrary.org/subjects/relatos_de_aventura'}, {'name': 'Muchachos', 'url': 'https://openlibrary.org/subjects/muchachos'}, {'name': 'Cartoons and comics', 'url': 'https://openlibrary.org/subjects/cartoons_and_comics'}, {'name': 'History', 'url': 'https://openlibrary.org/subjects/history'}, {'name': 'Social life and customs', 'url': 'https://openlibrary.org/subjects/social_life_and_customs'}, {'name': 'Niños', 'url': 'https://openlibrary.org/subjects/niños'}, {'name': 'Translations', 'url': 'https://openlibrary.org/subjects/translations'}, {'name': 'Russian', 'url': 'https://openlibrary.org/subjects/russian'}, {'name': 'Spanish', 'url': 'https://openlibrary.org/subjects/spanish'}, {'name': 'Polish', 'url': 'https://openlibrary.org/subjects/polish'}, {'name': 'Czech', 'url': 'https://openlibrary.org/subjects/czech'}, {'name': 'Ficción juvenil', 'url': 'https://openlibrary.org/subjects/ficción_juvenil'}, {'name': 'Juvenile fiction', 'url': 'https://openlibrary.org/subjects/juvenile_fiction'}, {'name': 'Klassenlektüre', 'url': 'https://openlibrary.org/subjects/klassenlektüre'}, {'name': 'Englischunterricht', 'url': 'https://openlibrary.org/subjects/englischunterricht'}, {'name': 'Translations into Czech', 'url': 'https://openlibrary.org/subjects/translations_into_czech'}, {'name': \"Children's stories, American\", 'url': \"https://openlibrary.org/subjects/children's_stories,_american\"}, {'name': 'Tom Sawyer (Fictitious character)', 'url': 'https://openlibrary.org/subjects/tom_sawyer_(fictitious_character)'}, {'name': \"Children's fiction\", 'url': \"https://openlibrary.org/subjects/children's_fiction\"}, {'name': 'Mississippi river, fiction', 'url': 'https://openlibrary.org/subjects/mississippi_river,_fiction'}, {'name': 'Missouri, fiction', 'url': 'https://openlibrary.org/subjects/missouri,_fiction'}, {'name': 'Adventure and adventurers, fiction', 'url': 'https://openlibrary.org/subjects/adventure_and_adventurers,_fiction'}, {'name': 'Sawyer, tom (fictitious character), fiction', 'url': 'https://openlibrary.org/subjects/sawyer,_tom_(fictitious_character),_fiction'}, {'name': 'American fiction (fictional works by one author)', 'url': 'https://openlibrary.org/subjects/american_fiction_(fictional_works_by_one_author)'}, {'name': 'Fiction, action & adventure', 'url': 'https://openlibrary.org/subjects/fiction,_action_&_adventure'}, {'name': 'Fiction, humorous', 'url': 'https://openlibrary.org/subjects/fiction,_humorous'}, {'name': 'Mississippi, fiction', 'url': 'https://openlibrary.org/subjects/mississippi,_fiction'}, {'name': 'Slaves, fiction', 'url': 'https://openlibrary.org/subjects/slaves,_fiction'}, {'name': 'Southern states, fiction', 'url': 'https://openlibrary.org/subjects/southern_states,_fiction'}, {'name': 'Comics & graphic novels, literary', 'url': 'https://openlibrary.org/subjects/comics_&_graphic_novels,_literary'}, {'name': 'Fiction, general', 'url': 'https://openlibrary.org/subjects/fiction,_general'}, {'name': 'Suo xie ben', 'url': 'https://openlibrary.org/subjects/suo_xie_ben'}, {'name': 'Er tong wen xue', 'url': 'https://openlibrary.org/subjects/er_tong_wen_xue'}, {'name': 'Chang pian xiao shuo', 'url': 'https://openlibrary.org/subjects/chang_pian_xiao_shuo'}, {'name': 'Huckleberry Finn (Fictitious character)', 'url': 'https://openlibrary.org/subjects/huckleberry_finn_(fictitious_character)'}, {'name': 'Adventure fiction', 'url': 'https://openlibrary.org/subjects/adventure_fiction'}, {'name': 'Adventure and adventurers', 'url': 'https://openlibrary.org/subjects/adventure_and_adventurers'}, {'name': 'Graphic novels', 'url': 'https://openlibrary.org/subjects/graphic_novels'}, {'name': 'Comic books, strips', 'url': 'https://openlibrary.org/subjects/comic_books,_strips'}, {'name': 'Facsimiles', 'url': 'https://openlibrary.org/subjects/facsimiles'}, {'name': 'Specimens', 'url': 'https://openlibrary.org/subjects/specimens'}, {'name': 'Large type books', 'url': 'https://openlibrary.org/subjects/large_type_books'}, {'name': 'American Adventure stories', 'url': 'https://openlibrary.org/subjects/american_adventure_stories'}, {'name': 'History and criticism', 'url': 'https://openlibrary.org/subjects/history_and_criticism'}, {'name': 'Manners and customs', 'url': 'https://openlibrary.org/subjects/manners_and_customs'}, {'name': 'Runaways', 'url': 'https://openlibrary.org/subjects/runaways'}, {'name': 'Adaptations', 'url': 'https://openlibrary.org/subjects/adaptations'}, {'name': 'Witnesses', 'url': 'https://openlibrary.org/subjects/witnesses'}, {'name': 'Runaways, fiction', 'url': 'https://openlibrary.org/subjects/runaways,_fiction'}, {'name': 'American literature', 'url': 'https://openlibrary.org/subjects/american_literature'}, {'name': 'FICTION / Classics', 'url': 'https://openlibrary.org/subjects/fiction_/_classics'}, {'name': 'FICTION / Literary', 'url': 'https://openlibrary.org/subjects/fiction_/_literary'}, {'name': 'Aventures et aventuriers', 'url': 'https://openlibrary.org/subjects/aventures_et_aventuriers'}, {'name': 'Romans', 'url': 'https://openlibrary.org/subjects/romans'}, {'name': 'Orphelins', 'url': 'https://openlibrary.org/subjects/orphelins'}, {'name': \"Children's stories\", 'url': \"https://openlibrary.org/subjects/children's_stories\"}, {'name': 'Conduct of life', 'url': 'https://openlibrary.org/subjects/conduct_of_life'}, {'name': 'Abenteuer', 'url': 'https://openlibrary.org/subjects/abenteuer'}, {'name': 'Waisenkind', 'url': 'https://openlibrary.org/subjects/waisenkind'}, {'name': 'Ouvrages de fiction', 'url': 'https://openlibrary.org/subjects/ouvrages_de_fiction'}, {'name': 'FICTION / Action & Adventure', 'url': 'https://openlibrary.org/subjects/fiction_/_action_&_adventure'}, {'name': 'Boys, fiction', 'url': 'https://openlibrary.org/subjects/boys,_fiction'}, {'name': 'Fiction, humorous, general', 'url': 'https://openlibrary.org/subjects/fiction,_humorous,_general'}, {'name': 'Humorous stories', 'url': 'https://openlibrary.org/subjects/humorous_stories'}, {'name': 'Behavior, fiction', 'url': 'https://openlibrary.org/subjects/behavior,_fiction'}, {'name': 'Literature and fiction, juvenile', 'url': 'https://openlibrary.org/subjects/literature_and_fiction,_juvenile'}, {'name': 'Friendship, fiction', 'url': 'https://openlibrary.org/subjects/friendship,_fiction'}, {'name': 'Literature, collections', 'url': 'https://openlibrary.org/subjects/literature,_collections'}, {'name': 'AR 8.3.', 'url': 'https://openlibrary.org/subjects/ar_8.3.'}, {'name': 'Spanish language materials', 'url': 'https://openlibrary.org/subjects/spanish_language_materials'}, {'name': 'Sawyer, Tom (Personaje imaginario)', 'url': 'https://openlibrary.org/subjects/sawyer,_tom_(personaje_imaginario)'}, {'name': 'Novela', 'url': 'https://openlibrary.org/subjects/novela'}, {'name': 'Novela de acción y aventura', 'url': 'https://openlibrary.org/subjects/novela_de_acción_y_aventura'}, {'name': 'Novela humorística', 'url': 'https://openlibrary.org/subjects/novela_humorística'}, {'name': 'Novela estadounidense', 'url': 'https://openlibrary.org/subjects/novela_estadounidense'}, {'name': 'Garçons', 'url': 'https://openlibrary.org/subjects/garçons'}, {'name': 'Romans, nouvelles, etc. pour la jeunesse', 'url': 'https://openlibrary.org/subjects/romans,_nouvelles,_etc._pour_la_jeunesse'}, {'name': 'Tom Sawyer (Fictional character)', 'url': 'https://openlibrary.org/subjects/tom_sawyer_(fictional_character)'}, {'name': 'English language, textbooks for foreign speakers', 'url': 'https://openlibrary.org/subjects/english_language,_textbooks_for_foreign_speakers'}, {'name': 'Finn, huckleberry (fictitious character), fiction', 'url': 'https://openlibrary.org/subjects/finn,_huckleberry_(fictitious_character),_fiction'}, {'name': 'Exhibitions', 'url': 'https://openlibrary.org/subjects/exhibitions'}], 'subject_places': [{'name': 'Missouri', 'url': 'https://openlibrary.org/subjects/place:missouri'}, {'name': 'Mississippi River', 'url': 'https://openlibrary.org/subjects/place:mississippi_river'}, {'name': 'Mississippi River Valley', 'url': 'https://openlibrary.org/subjects/place:mississippi_river_valley'}, {'name': 'Southern States', 'url': 'https://openlibrary.org/subjects/place:southern_states'}, {'name': 'Mississippi', 'url': 'https://openlibrary.org/subjects/place:mississippi'}, {'name': 'Misisipí (Río)', 'url': 'https://openlibrary.org/subjects/place:misisipí_(río)'}, {'name': 'United States', 'url': 'https://openlibrary.org/subjects/place:united_states'}, {'name': 'Mei guo', 'url': 'https://openlibrary.org/subjects/place:mei_guo'}, {'name': 'Mississippidelta', 'url': 'https://openlibrary.org/subjects/place:mississippidelta'}, {'name': 'Rio Mississipi', 'url': 'https://openlibrary.org/subjects/place:rio_mississipi'}], 'subject_people': [{'name': 'Mark Twain (1835-1910); Fictitious characters: Tom Sawyer', 'url': 'https://openlibrary.org/subjects/person:mark_twain_(1835-1910);_fictitious_characters:_tom_sawyer'}, {'name': 'Huckleberry Finn', 'url': 'https://openlibrary.org/subjects/person:huckleberry_finn'}, {'name': 'Tom Sawyer (Fictitious character)', 'url': 'https://openlibrary.org/subjects/person:tom_sawyer_(fictitious_character)'}], 'subject_times': [{'name': '19th Century', 'url': 'https://openlibrary.org/subjects/time:19th_century'}, {'name': 'Jin dai', 'url': 'https://openlibrary.org/subjects/time:jin_dai'}, {'name': 'Siglo XIX', 'url': 'https://openlibrary.org/subjects/time:siglo_xix'}], 'notes': 'Includes bibliographical references (p. 213-216).', 'ebooks': [{'preview_url': 'https://archive.org/details/adventuresoftoms0000twai_x3x4', 'availability': 'restricted', 'formats': {}}], 'cover': {'small': 'https://covers.openlibrary.org/b/id/11403183-S.jpg', 'medium': 'https://covers.openlibrary.org/b/id/11403183-M.jpg', 'large': 'https://covers.openlibrary.org/b/id/11403183-L.jpg'}}}\n"
     ]
    }
   ],
   "source": [
    "import requests\n",
    "\n",
    "def get_book_info(isbn):\n",
    "    base_url = \"https://openlibrary.org/api/books\"\n",
    "    params = {\n",
    "        'bibkeys': f'ISBN:{isbn}',\n",
    "        'format': 'json',\n",
    "        'jscmd': 'data'\n",
    "    }\n",
    "    \n",
    "    response = requests.get(base_url, params=params)\n",
    "    \n",
    "    if response.status_code == 200:\n",
    "        return response.json()\n",
    "    else:\n",
    "        return f\"Error: {response.status_code}, {response.text}\"\n",
    "\n",
    "isbn = \"0451526538\"\n",
    "book_info = get_book_info(isbn)\n",
    "print(book_info)"
   ]
  }
 ],
 "metadata": {
  "kernelspec": {
   "display_name": ".venv",
   "language": "python",
   "name": "python3"
  },
  "language_info": {
   "codemirror_mode": {
    "name": "ipython",
    "version": 3
   },
   "file_extension": ".py",
   "mimetype": "text/x-python",
   "name": "python",
   "nbconvert_exporter": "python",
   "pygments_lexer": "ipython3",
   "version": "3.11.1"
  }
 },
 "nbformat": 4,
 "nbformat_minor": 2
}
