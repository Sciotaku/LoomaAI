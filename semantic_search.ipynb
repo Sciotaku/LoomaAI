{
 "cells": [
  {
   "cell_type": "code",
   "execution_count": null,
   "metadata": {},
   "outputs": [],
   "source": [
    "import spacy\n",
    "\n",
    "# Load SpaCy model\n",
    "nlp = spacy.load('en_core_web_sm')\n",
    "\n",
    "def preprocess_text(text):\n",
    "    doc = nlp(text.lower())\n",
    "    tokens = [token.lemma_ for token in doc if not token.is_stop and token.is_alpha]\n",
    "    return ' '.join(tokens)\n",
    "\n",
    "# Example usage\n",
    "text = \"The quick brown fox jumps over the lazy dog.\"\n",
    "preprocessed_text = preprocess_text(text)\n",
    "print(preprocessed_text)\n"
   ]
  },
  {
   "cell_type": "code",
   "execution_count": null,
   "metadata": {},
   "outputs": [],
   "source": [
    "from sentence_transformers import SentenceTransformer\n",
    "\n",
    "# Load pre-trained model\n",
    "model = SentenceTransformer('all-MiniLM-L6-v2')\n",
    "\n",
    "def generate_embedding(text):\n",
    "    embedding = model.encode(text)\n",
    "    return embedding\n",
    "\n",
    "# Example usage\n",
    "embedding = generate_embedding(preprocessed_text)\n",
    "print(embedding)\n"
   ]
  },
  {
   "cell_type": "code",
   "execution_count": null,
   "metadata": {},
   "outputs": [],
   "source": [
    "import faiss\n",
    "import numpy as np\n",
    "\n",
    "# Example embeddings (you'll have a large list in practice)\n",
    "embeddings = np.array([generate_embedding(preprocess_text(\"Text of chapter 1\")),\n",
    "                       generate_embedding(preprocess_text(\"Text of chapter 2\"))])\n",
    "\n",
    "# Create FAISS index\n",
    "index = faiss.IndexFlatL2(embeddings.shape[1])\n",
    "index.add(embeddings)\n",
    "\n",
    "# Save index for later use\n",
    "faiss.write_index(index, \"embeddings.index\")\n"
   ]
  },
  {
   "cell_type": "code",
   "execution_count": null,
   "metadata": {},
   "outputs": [],
   "source": [
    "def search(query, index, top_k=5):\n",
    "    query_embedding = generate_embedding(preprocess_text(query))\n",
    "    D, I = index.search(np.array([query_embedding]), top_k)\n",
    "    return I[0]  # Returns the indices of the top_k most similar embeddings\n",
    "\n",
    "# Load index\n",
    "index = faiss.read_index(\"embeddings.index\")\n",
    "\n",
    "# Example query\n",
    "query = \"Find resources for brown fox.\"\n",
    "results = search(query, index)\n",
    "print(results)\n"
   ]
  },
  {
   "cell_type": "code",
   "execution_count": null,
   "metadata": {},
   "outputs": [],
   "source": [
    "from flask import Flask, request, jsonify\n",
    "\n",
    "app = Flask(__name__)\n",
    "\n",
    "@app.route('/search', methods=['GET'])\n",
    "def search_endpoint():\n",
    "    query = request.args.get('query')\n",
    "    results = search(query, index)\n",
    "    return jsonify({\"results\": results.tolist()})\n",
    "\n",
    "if __name__ == '__main__':\n",
    "    app.run(debug=True)\n"
   ]
  },
  {
   "cell_type": "code",
   "execution_count": null,
   "metadata": {},
   "outputs": [],
   "source": []
  }
 ],
 "metadata": {
  "language_info": {
   "name": "python"
  }
 },
 "nbformat": 4,
 "nbformat_minor": 2
}
