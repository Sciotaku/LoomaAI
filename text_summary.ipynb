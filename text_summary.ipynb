{
 "cells": [
  {
   "cell_type": "markdown",
   "metadata": {},
   "source": [
    "Step 1: Install the Required Libraries"
   ]
  },
  {
   "cell_type": "code",
   "execution_count": null,
   "metadata": {},
   "outputs": [],
   "source": [
    "! pip install transformers torch\n",
    "! pip install pdfminer.six"
   ]
  },
  {
   "cell_type": "markdown",
   "metadata": {},
   "source": [
    "Step 2: Extract Text from PDF"
   ]
  },
  {
   "cell_type": "code",
   "execution_count": 11,
   "metadata": {},
   "outputs": [],
   "source": [
    "from pdfminer.high_level import extract_text_to_fp\n",
    "from io import StringIO\n",
    "\n",
    "def extract_text_from_pdf(pdf_path, start_page, end_page):\n",
    "    # Extracts text from a PDF file, specifying the pages for Chapter 1\n",
    "    text = \"\"\n",
    "    output = StringIO()\n",
    "    with open(pdf_path, 'rb') as f:\n",
    "        extract_text_to_fp(f, output, page_numbers=range(start_page-1, end_page))\n",
    "        text = output.getvalue()\n",
    "    return text"
   ]
  },
  {
   "cell_type": "code",
   "execution_count": 14,
   "metadata": {},
   "outputs": [],
   "source": [
    "# Define the path to the PDF and the pages to extract\n",
    "pdf_path = \"looma_sample_book.pdf\"  # Update this to the path of your PDF file\n",
    "start_page = 3  # Update this to the start page of Chapter 1\n",
    "end_page = 4  # Update this to the end page of Chapter 1"
   ]
  },
  {
   "cell_type": "code",
   "execution_count": 15,
   "metadata": {},
   "outputs": [
    {
     "name": "stdout",
     "output_type": "stream",
     "text": [
      "PrefaceSchool education is the foundation for preparing the citizen who are loyal to the nation and nationality, committed to the norms and values of federal democratic republic, self-reliant and respecting the social and cultural diversity. It is also remarkable for developing a good moral character with the practical know-how of the use of ICT along with the application of scientific concept and positive thinking. It is also expected to prepare the citizens who are moral and ethical, disciplined, social and human value sensitive with the consciousness about the environmental conversation and sustainable development. Moreover, it should be helpful for developing the skills for solving the real life problems. This textbook 'Science and Technology, Grade 10' is fully aligned with the intent carried out by the National Curriculum Framework for School Education, 2076 and is developed fully in accordance with the new Secondary Level Curriculum, Grade 9-10, 2078.  This textbook is initially written by Dr. Indra Raj Upadhaya, Mrs. Mina Shrestha, Mr. Janak Raj Pant, Mr. Yubraj Aadhikari and Lav Dev Bhatta . It has been translated by Mrs. Rajani Maharjan, Mr. Narayan Acharaya and Mr. Suraj Babu Ghimere. The contribution made by Director General Mr. Baikuntha Prasad Aryal, Prof. Dr. Krishna Bhakta Maharjan, Dr. Kamal Prasad Acharya, Mr. Uma Nath Lamsal, Mr. Hedemba Raj Kandal, Mr Keshar Bahadur Khulal, Mr. Shailesh Bahadur Pradhan, Mr Pashupati Shrestha, Mr. Krishna prasad Bhusal, Mr. Bishnu Poudel and Mrs. Pramila Bhakati is remarkable in bringing the book in this form. The language of the book has been edited by Mrs. Kunti Adhikari. Art editing of this book was done by Mr. Shreehari Shrestha by making it four colour. The Curriculum Development Centre extends sincere gratitude to all of them.The textbook is a primary resource for classroom teaching. Considerable efforts have been made to make the book helpful in achieving the expected competencies of the curriculum.  Curriculum Development Centre always welcomes constructive feedback for further betterment of its publications.2080 BS  Curriculum Development Centre  Sanothimi, Bhaktapur\fContentsUnit Topic Page 1  Scientific Learning 1 2  Classification of Living Beings 153  Honey Bee 594  Heredity  735  Physiological Structure and Life Process  1116  Nature and Environment 1427  Motion and Force 1678  Pressure  1979  Heat 22410  Wave 24211  Electricity and Magnetism 30212  Universe 328 13  Information and Communication Technology 33914  Classification of Elements 36315  Chemical Reaction 38116  Gases  39517  Metal and Not metals 41518  Hydrocarbon and its Compounds  42619  Chemicals used in Daily Life  4425\f\n"
     ]
    }
   ],
   "source": [
    "# Extract text from the specified pages\n",
    "chapter_text = extract_text_from_pdf(pdf_path, start_page, end_page)\n",
    "print(chapter_text)"
   ]
  },
  {
   "cell_type": "markdown",
   "metadata": {},
   "source": [
    "Step 3: Summarize Text Using Transformers"
   ]
  },
  {
   "cell_type": "code",
   "execution_count": null,
   "metadata": {},
   "outputs": [],
   "source": [
    "from transformers import pipeline\n",
    "\n",
    "def summarize_text(text):\n",
    "    summarizer = pipeline(\"summarization\", model=\"facebook/bart-large-cnn\")\n",
    "    summary_text = summarizer(text, max_length=130, min_length=30, do_sample=False)\n",
    "    return summary_text[0]['summary_text']"
   ]
  },
  {
   "cell_type": "markdown",
   "metadata": {},
   "source": [
    "Step 4: Putting It All Together"
   ]
  },
  {
   "cell_type": "code",
   "execution_count": null,
   "metadata": {},
   "outputs": [],
   "source": [
    "pdf_path = \"looma_sample_book.pdf\"  # Update this to the path of your PDF file\n",
    "start_page = 1  # Update this to the start page of Chapter 1\n",
    "end_page = 2  # Update this to the end page of Chapter 1\n",
    "\n",
    "# Extract text\n",
    "chapter_text = extract_text_from_pdf(pdf_path, start_page, end_page)\n",
    "\n",
    "# Generate summary\n",
    "chapter_summary = summarize_text(chapter_text)\n",
    "print(chapter_summary)"
   ]
  }
 ],
 "metadata": {
  "kernelspec": {
   "display_name": "base",
   "language": "python",
   "name": "python3"
  },
  "language_info": {
   "codemirror_mode": {
    "name": "ipython",
    "version": 3
   },
   "file_extension": ".py",
   "mimetype": "text/x-python",
   "name": "python",
   "nbconvert_exporter": "python",
   "pygments_lexer": "ipython3",
   "version": "3.11.1"
  }
 },
 "nbformat": 4,
 "nbformat_minor": 2
}
