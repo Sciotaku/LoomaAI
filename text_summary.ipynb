{
 "cells": [
  {
   "cell_type": "markdown",
   "metadata": {},
   "source": [
    "Step 1: Install the Required Libraries"
   ]
  },
  {
   "cell_type": "code",
   "execution_count": null,
   "metadata": {},
   "outputs": [],
   "source": [
    "! pip install transformers torch\n",
    "! pip install pdfminer.six"
   ]
  },
  {
   "cell_type": "markdown",
   "metadata": {},
   "source": [
    "Step 2: Extract Text from PDF"
   ]
  },
  {
   "cell_type": "code",
   "execution_count": null,
   "metadata": {},
   "outputs": [],
   "source": [
    "from pdfminer.high_level import extract_text\n",
    "\n",
    "def extract_text_from_pdf(pdf_path, start_page, end_page):\n",
    "    # Extracts text from a PDF file, specifying the pages for Chapter 1\n",
    "    text = \"\"\n",
    "    from pdfminer.high_level import extract_text_to_fp\n",
    "    from io import StringIO\n",
    "\n",
    "    output = StringIO()\n",
    "    with open(pdf_path, 'rb') as f:\n",
    "        extract_text_to_fp(f, output, page_numbers=range(start_page-1, end_page))\n",
    "        text = output.getvalue()\n",
    "    return text"
   ]
  },
  {
   "cell_type": "markdown",
   "metadata": {},
   "source": [
    "Step 3: Summarize Text Using Transformers"
   ]
  },
  {
   "cell_type": "code",
   "execution_count": null,
   "metadata": {},
   "outputs": [],
   "source": [
    "from transformers import pipeline\n",
    "\n",
    "def summarize_text(text):\n",
    "    summarizer = pipeline(\"summarization\", model=\"facebook/bart-large-cnn\")\n",
    "    summary_text = summarizer(text, max_length=130, min_length=30, do_sample=False)\n",
    "    return summary_text[0]['summary_text']"
   ]
  },
  {
   "cell_type": "markdown",
   "metadata": {},
   "source": [
    "Step 4: Putting It All Together"
   ]
  },
  {
   "cell_type": "code",
   "execution_count": null,
   "metadata": {},
   "outputs": [],
   "source": [
    "pdf_path = \"looma_sample_book.pdf\"  # Update this to the path of your PDF file\n",
    "start_page = 1  # Update this to the start page of Chapter 1\n",
    "end_page = 2  # Update this to the end page of Chapter 1\n",
    "\n",
    "# Extract text\n",
    "chapter_text = extract_text_from_pdf(pdf_path, start_page, end_page)\n",
    "\n",
    "# Generate summary\n",
    "chapter_summary = summarize_text(chapter_text)\n",
    "print(chapter_summary)"
   ]
  },
  {
   "cell_type": "code",
   "execution_count": null,
   "metadata": {},
   "outputs": [],
   "source": []
  }
 ],
 "metadata": {
  "kernelspec": {
   "display_name": "base",
   "language": "python",
   "name": "python3"
  },
  "language_info": {
   "codemirror_mode": {
    "name": "ipython",
    "version": 3
   },
   "file_extension": ".py",
   "mimetype": "text/x-python",
   "name": "python",
   "nbconvert_exporter": "python",
   "pygments_lexer": "ipython3",
   "version": "3.11.1"
  }
 },
 "nbformat": 4,
 "nbformat_minor": 2
}
