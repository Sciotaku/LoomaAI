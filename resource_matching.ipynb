{
 "cells": [
  {
   "cell_type": "code",
   "execution_count": null,
   "metadata": {},
   "outputs": [],
   "source": [
    "from pymongo import MongoClient\n",
    "\n",
    "# Connect to MongoDB\n",
    "client = MongoClient('mongodb://localhost:27017/')\n",
    "db = client['looma_education']\n",
    "\n",
    "# Fetch textbooks and resources\n",
    "textbooks = db.textbooks.find()\n",
    "resources = db.resources.find()\n"
   ]
  },
  {
   "cell_type": "code",
   "execution_count": null,
   "metadata": {},
   "outputs": [],
   "source": [
    "import nltk\n",
    "from nltk.corpus import stopwords\n",
    "from nltk.tokenize import word_tokenize\n",
    "from nltk.stem import WordNetLemmatizer\n",
    "\n",
    "nltk.download('punkt')\n",
    "nltk.download('stopwords')\n",
    "nltk.download('wordnet')\n",
    "\n",
    "stop_words = set(stopwords.words('english'))\n",
    "lemmatizer = WordNetLemmatizer()\n",
    "\n",
    "def preprocess(text):\n",
    "    # Tokenize\n",
    "    tokens = word_tokenize(text)\n",
    "    # Remove stopwords and non-alphabetic tokens, and lemmatize\n",
    "    tokens = [lemmatizer.lemmatize(word.lower()) for word in tokens if word.isalpha() and word not in stop_words]\n",
    "    return ' '.join(tokens)\n"
   ]
  },
  {
   "cell_type": "code",
   "execution_count": null,
   "metadata": {},
   "outputs": [],
   "source": [
    "from sklearn.feature_extraction.text import TfidfVectorizer\n",
    "\n",
    "# Preprocess the text data\n",
    "textbook_texts = [preprocess(book['content']) for book in textbooks]\n",
    "resource_texts = [preprocess(resource['content']) for resource in resources]\n",
    "\n",
    "# Vectorize the texts\n",
    "vectorizer = TfidfVectorizer()\n",
    "textbook_vectors = vectorizer.fit_transform(textbook_texts)\n",
    "resource_vectors = vectorizer.transform(resource_texts)\n"
   ]
  },
  {
   "cell_type": "code",
   "execution_count": null,
   "metadata": {},
   "outputs": [],
   "source": [
    "from sklearn.metrics.pairwise import cosine_similarity\n",
    "\n",
    "# Compute cosine similarity\n",
    "similarity_matrix = cosine_similarity(textbook_vectors, resource_vectors)\n"
   ]
  },
  {
   "cell_type": "code",
   "execution_count": null,
   "metadata": {},
   "outputs": [],
   "source": [
    "import numpy as np\n",
    "\n",
    "matches = []\n",
    "for idx, similarity_scores in enumerate(similarity_matrix):\n",
    "    # Find the index of the most similar resource\n",
    "    best_match_idx = np.argmax(similarity_scores)\n",
    "    matches.append({\n",
    "        'textbook_chapter_id': textbooks[idx]['_id'],\n",
    "        'resource_id': resources[best_match_idx]['_id'],\n",
    "        'similarity_score': similarity_scores[best_match_idx]\n",
    "    })\n",
    "\n",
    "# Save matches to MongoDB\n",
    "db.matches.insert_many(matches)\n"
   ]
  }
 ],
 "metadata": {
  "language_info": {
   "name": "python"
  }
 },
 "nbformat": 4,
 "nbformat_minor": 2
}
